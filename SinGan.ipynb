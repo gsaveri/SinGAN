{
  "nbformat": 4,
  "nbformat_minor": 0,
  "metadata": {
    "colab": {
      "name": "SinGan.ipynb",
      "private_outputs": true,
      "provenance": [],
      "collapsed_sections": [
        "V6gKwJKKO4U3"
      ],
      "machine_shape": "hm",
      "authorship_tag": "ABX9TyPQzorW/LJzrYZER6WBzR+0",
      "include_colab_link": true
    },
    "kernelspec": {
      "name": "python3",
      "display_name": "Python 3"
    },
    "language_info": {
      "name": "python"
    },
    "accelerator": "GPU"
  },
  "cells": [
    {
      "cell_type": "markdown",
      "metadata": {
        "id": "view-in-github",
        "colab_type": "text"
      },
      "source": [
        "<a href=\"https://colab.research.google.com/github/gsaveri/SinGAN/blob/master/SinGan.ipynb\" target=\"_parent\"><img src=\"https://colab.research.google.com/assets/colab-badge.svg\" alt=\"Open In Colab\"/></a>"
      ]
    },
    {
      "cell_type": "markdown",
      "metadata": {
        "id": "ri0U_k4ENHlr"
      },
      "source": [
        "#SinGAN Colab Notebook\n",
        "\n",
        "This repo was originally forked from https://github.com/tamarott/SinGAN, I just added the colab notebook.\n",
        "\n",
        "[Project](https://tamarott.github.io/SinGAN.htm) | [Arxiv](https://arxiv.org/pdf/1905.01164.pdf) | [CVF](http://openaccess.thecvf.com/content_ICCV_2019/papers/Shaham_SinGAN_Learning_a_Generative_Model_From_a_Single_Natural_Image_ICCV_2019_paper.pdf) | [Supplementary materials](https://openaccess.thecvf.com/content_ICCV_2019/supplemental/Shaham_SinGAN_Learning_a_ICCV_2019_supplemental.pdf) | [Talk (ICCV`19)](https://youtu.be/mdAcPe74tZI?t=3191) \n",
        "\n",
        "\n",
        "### Official pytorch implementation of the paper: \"SinGAN: Learning a Generative Model from a Single Natural Image\"\n",
        "#### ICCV 2019 Best paper award (Marr prize)\n",
        "\n",
        "The code will clone the repository into your local colab space, and train sinGan with an input image.\n",
        "\n",
        "### Citation\n",
        "If you use this code for your research, please cite the paper:\n",
        "\n",
        "```\n",
        "@inproceedings{rottshaham2019singan,\n",
        "  title={SinGAN: Learning a Generative Model from a Single Natural Image},\n",
        "  author={Rott Shaham, Tamar and Dekel, Tali and Michaeli, Tomer},\n",
        "  booktitle={Computer Vision (ICCV), IEEE International Conference on},\n",
        "  year={2019}\n",
        "}\n",
        "```\n"
      ]
    },
    {
      "cell_type": "markdown",
      "metadata": {
        "id": "z57lN49AO1EX"
      },
      "source": [
        "##Code"
      ]
    },
    {
      "cell_type": "code",
      "metadata": {
        "id": "gr4kxJEhM0eW"
      },
      "source": [
        "import os\n",
        "from google.colab import files"
      ],
      "execution_count": null,
      "outputs": []
    },
    {
      "cell_type": "code",
      "metadata": {
        "id": "l1RPg4T8m0sG"
      },
      "source": [
        "from google.colab import drive\n",
        "from pathlib import Path\n",
        "\n",
        "content_path = Path('/').absolute() / 'content'\n",
        "drive_path = content_path / 'drive'\n",
        "drive.mount(str(drive_path))"
      ],
      "execution_count": null,
      "outputs": []
    },
    {
      "cell_type": "markdown",
      "metadata": {
        "id": "V6gKwJKKO4U3"
      },
      "source": [
        "### Clone the repository"
      ]
    },
    {
      "cell_type": "code",
      "metadata": {
        "id": "d8Zd8aXUMA15"
      },
      "source": [
        "singan_repo_url  = 'https://github.com/gsaveri/SinGAN.git'\n",
        "project_path        = drive_path / 'MyDrive' / 'SinGan'\n",
        "singan_repo_path = project_path / 'SinGan'\n",
        "\n",
        "# Create project folder if inexistant\n",
        "if not project_path.is_dir():\n",
        "    %mkdir \"{project_path}\"\n",
        "%cd \"{project_path}\"\n",
        "\n",
        "if singan_repo_path.is_dir():\n",
        "    !git -C \"{singan_repo_path}\" fetch origin\n",
        "    !git -C \"{singan_repo_path}\" checkout origin/main -- *.py\n",
        "else:\n",
        "    print(\"Install SinGan\")\n",
        "    !git clone {singan_repo_url}"
      ],
      "execution_count": null,
      "outputs": []
    },
    {
      "cell_type": "code",
      "metadata": {
        "id": "xMBrKvHaNpmz"
      },
      "source": [
        "cd /content/drive/MyDrive/SinGan"
      ],
      "execution_count": null,
      "outputs": []
    },
    {
      "cell_type": "markdown",
      "metadata": {
        "id": "bMf9tkHoOxMO"
      },
      "source": [
        "### Install dependencies\n",
        "\n",
        "This code was tested with python 3.6  "
      ]
    },
    {
      "cell_type": "code",
      "metadata": {
        "id": "5t2biZvVMuhd"
      },
      "source": [
        "!pip install -r requirements.txt"
      ],
      "execution_count": null,
      "outputs": []
    },
    {
      "cell_type": "markdown",
      "metadata": {
        "id": "5RnmXeDRPEJE"
      },
      "source": [
        "### Train on uploaded image"
      ]
    },
    {
      "cell_type": "code",
      "metadata": {
        "id": "vPVrzq1iNE2o"
      },
      "source": [
        "# Load an input image\n",
        "input = files.upload()\n",
        "input = list(input.keys())[0]\n",
        "\n",
        "!cp \"{input}\" /content/SinGAN/Input/Images/\"{input}\"\n",
        "!rm \"{input}\""
      ],
      "execution_count": null,
      "outputs": []
    },
    {
      "cell_type": "code",
      "metadata": {
        "id": "Ue1RGVxhMxPd"
      },
      "source": [
        "!python main_train.py --input_name \"{input}\""
      ],
      "execution_count": null,
      "outputs": []
    },
    {
      "cell_type": "markdown",
      "metadata": {
        "id": "CG7JMgICRtVt"
      },
      "source": [
        "###  Random samples\n",
        "To generate random samples from any starting generation scale, please first train SinGAN model on the desired image (as described above), then run"
      ]
    },
    {
      "cell_type": "code",
      "metadata": {
        "id": "9kcCZPy6R4tJ"
      },
      "source": [
        "gen_start_scale = 0"
      ],
      "execution_count": null,
      "outputs": []
    },
    {
      "cell_type": "code",
      "metadata": {
        "id": "GHaNcwO4UW-D"
      },
      "source": [
        "folder = input[0:len(input)-4]\n",
        "print(folder)"
      ],
      "execution_count": null,
      "outputs": []
    },
    {
      "cell_type": "code",
      "metadata": {
        "id": "rLBOzwWyQq4c"
      },
      "source": [
        "! rm -r /content/SinGAN/Output/RandomSamples/seed0936/gen_start_scale=0"
      ],
      "execution_count": null,
      "outputs": []
    },
    {
      "cell_type": "code",
      "metadata": {
        "id": "dh6XMXxvRnI4"
      },
      "source": [
        "!python random_samples.py --input_name \"{input}\" --mode random_samples --gen_start_scale \"{gen_start_scale}\""
      ],
      "execution_count": null,
      "outputs": []
    },
    {
      "cell_type": "code",
      "metadata": {
        "id": "VWOMfwwS3VfA"
      },
      "source": [
        "!python random_samples.py --input_name \"{input}\" --mode random_samples_arbitrary_sizes --scale_h 1 --scale_v 1"
      ],
      "execution_count": null,
      "outputs": []
    },
    {
      "cell_type": "code",
      "metadata": {
        "id": "kEhfPlUCmtny"
      },
      "source": [
        "#Copy to google drive\n",
        "\n",
        "from os import path\n",
        "singan = '/content/drive/MyDrive/Side Hustles/saivnnt/singan'\n",
        "random_samples_folder = path.join(singan,folder)\n",
        "#source = path.join('/content/SinGAN/Output/RandomSamples',folder,'gen_start_scale=' + str(gen_start_scale))\n",
        "source = '/content/SinGAN/Output/RandomSamples_ArbitrerySizes/seed0936/scale_v=4.000000_scale_h=4.000000'\n",
        "print(random_samples_folder)\n",
        "\n",
        "!mkdir \"{random_samples_folder}\"\n",
        "!cp \"{source}\"/*.* \"{random_samples_folder}\""
      ],
      "execution_count": null,
      "outputs": []
    },
    {
      "cell_type": "markdown",
      "metadata": {
        "id": "Ef0qpnxdZ3Fs"
      },
      "source": [
        "### Harmonization\n",
        "\n",
        "To harmonize a pasted object into an image (See example in Fig. 13 in [our paper](https://arxiv.org/pdf/1905.01164.pdf)), please first train SinGAN model on the desired background image (as described above), then save the naively pasted reference image and it's binary mask under \"Input/Harmonization\" (see saved images for an example). Run the command"
      ]
    },
    {
      "cell_type": "code",
      "metadata": {
        "id": "IzjRkNivaZAt"
      },
      "source": [
        "# Load paint reference image\n",
        "harmonization_ref = files.upload()\n",
        "harmonization_ref = list(harmonization_ref.keys())[0]\n",
        "\n",
        "harmonization_mask = files.upload()\n",
        "harmonization_mask = list(harmonization_mask.keys())[0]\n",
        "\n",
        "!cp \"{harmonization_ref}\" /content/SinGAN/Input/Harmonization/\"{harmonization_ref}\"\n",
        "!cp \"{harmonization_mask}\" /content/SinGAN/Input/Harmonization/\"{harmonization_mask}\"\n",
        "!rm \"{harmonization_ref}\"\n",
        "!rm \"{harmonization_mask}\""
      ],
      "execution_count": null,
      "outputs": []
    },
    {
      "cell_type": "code",
      "metadata": {
        "id": "tQyKDz9ZujW4"
      },
      "source": [
        "!python harmonization.py --input_name \"{input}\" --ref_name  \"{harmonization_ref}\" --harmonization_start_scale 7"
      ],
      "execution_count": null,
      "outputs": []
    },
    {
      "cell_type": "markdown",
      "metadata": {
        "id": "-t2GAmDljn2x"
      },
      "source": [
        "Please note that different injection scale will produce different harmonization effects. The coarsest injection scale equals 1. "
      ]
    },
    {
      "cell_type": "markdown",
      "metadata": {
        "id": "b58Hsgmbkpwd"
      },
      "source": [
        "###  Editing\n",
        "\n",
        "To edit an image, (See example in Fig. 12 in [our paper](https://arxiv.org/pdf/1905.01164.pdf)), please first train SinGAN model on the desired non-edited image (as described above), then save the naive edit as a reference image under \"Input/Editing\" with a corresponding binary map (see saved images for an example). Run the command"
      ]
    },
    {
      "cell_type": "code",
      "metadata": {
        "id": "8tS4aRbRoBlz"
      },
      "source": [
        "# Load an input image\n",
        "input = files.upload()\n",
        "input = list(input.keys())[0]\n",
        "\n",
        "!cp \"{input}\" /content/SinGAN/Input/Editing/\"{input}\"\n",
        "!rm \"{input}\"\n",
        "\n",
        "# Load an input image\n",
        "ref = files.upload()\n",
        "ref = list(ref.keys())[0]\n",
        "\n",
        "!cp \"{ref}\" /content/SinGAN/Input/Editing/\"{ref}\"\n",
        "!rm \"{ref}\""
      ],
      "execution_count": null,
      "outputs": []
    },
    {
      "cell_type": "code",
      "metadata": {
        "id": "8IoOgkIHkrLe"
      },
      "source": [
        "!python editing.py --input_name 'seed0365.png' --ref_name seed0365_edit.png --editing_start_scale 5"
      ],
      "execution_count": null,
      "outputs": []
    },
    {
      "cell_type": "markdown",
      "metadata": {
        "id": "HIVYYg41krlY"
      },
      "source": [
        "both the masked and unmasked output will be saved.\n",
        "Here as well, different injection scale will produce different editing effects. The coarsest injection scale equals 1. \n"
      ]
    },
    {
      "cell_type": "markdown",
      "metadata": {
        "id": "CwfIRD_sZ5yf"
      },
      "source": [
        "###Super resolution\n",
        "\n",
        "To super resolve an image, please run:"
      ]
    },
    {
      "cell_type": "code",
      "metadata": {
        "id": "UbDF4XI-0Fv7"
      },
      "source": [
        "!python SR.py --input_name \"{input}\""
      ],
      "execution_count": null,
      "outputs": []
    },
    {
      "cell_type": "markdown",
      "metadata": {
        "id": "SONT0roMkMUb"
      },
      "source": [
        "This will automatically train a SinGAN model correspond to 4x upsampling factor (if not exist already).\n",
        "For different SR factors, please specify it using the parameter `--sr_factor` when calling the function.\n",
        "SinGAN's results on the BSD100 dataset can be download from the 'Downloads' folder."
      ]
    },
    {
      "cell_type": "markdown",
      "metadata": {
        "id": "UEJoi0OjaCKN"
      },
      "source": [
        "### Paint to image\n",
        "\n",
        "To transfer a paint into a realistic image (See example in Fig. 11 in [our paper](https://arxiv.org/pdf/1905.01164.pdf)), please first train SinGAN model on the desired image (as described above), then save your paint under \"Input/Paint\", and run the command"
      ]
    },
    {
      "cell_type": "code",
      "metadata": {
        "id": "JPfUKIWuaHs3"
      },
      "source": [
        "# Load paint reference image\n",
        "paint_ref = files.upload()\n",
        "paint_ref = list(input.keys())[0]\n",
        "\n",
        "!cp \"{paint_ref}\" /content/SinGAN/Input/Paint/\"{paint_ref}\"\n",
        "!rm \"{paint_ref}\""
      ],
      "execution_count": null,
      "outputs": []
    },
    {
      "cell_type": "code",
      "metadata": {
        "id": "6JlelZWDYjvL"
      },
      "source": [
        "!python paint2image.py --input_name \"{input}\" --ref_name \"{paint_ref}\" --paint_start_scale 2"
      ],
      "execution_count": null,
      "outputs": []
    },
    {
      "cell_type": "markdown",
      "metadata": {
        "id": "_D4oVQ3_ka08"
      },
      "source": [
        "Here as well, different injection scale will produce different editing effects. The coarsest injection scale equals 1. \n",
        "\n",
        "Advanced option: Specify quantization_flag to be True, to re-train *only* the injection level of the model, to get a on a color-quantized version of upsampled generated images from the previous scale. For some images, this might lead to more realistic results."
      ]
    },
    {
      "cell_type": "code",
      "metadata": {
        "id": "5dIYqvoeTqgN"
      },
      "source": [
        "# clean trainedModel\n",
        "# !rm -r /content/SinGAN/Output/RandomSamples/\"{folder}\"\n",
        "# !rm -r /content/SinGAN/TrainedModels/\"{folder}\""
      ],
      "execution_count": null,
      "outputs": []
    },
    {
      "cell_type": "code",
      "metadata": {
        "id": "XyKblq0PlF-n"
      },
      "source": [
        "## Additional Data and Functions\n",
        "\n",
        "### Single Image Fréchet Inception Distance (SIFID score)\n",
        "To calculate the SIFID between real images and their corresponding fake samples, please run:\n",
        "\n"
      ],
      "execution_count": null,
      "outputs": []
    },
    {
      "cell_type": "code",
      "metadata": {
        "id": "QUWcEOMelI-u"
      },
      "source": [
        "# !python SIFID/sifid_score.py --path2real <real images path> --path2fake <fake images path>   "
      ],
      "execution_count": null,
      "outputs": []
    },
    {
      "cell_type": "markdown",
      "metadata": {
        "id": "nTaS1VXflJIg"
      },
      "source": [
        "Make sure that each of the fake images file name is identical to its corresponding real image file name. Images should be saved in `.jpg` format.\n",
        "\n",
        "### Super Resolution Results\n",
        "SinGAN's SR results on the BSD100 dataset can be download from the 'Downloads' folder.\n",
        "\n",
        "### User Study\n",
        "The data used for the user study can be found in the Downloads folder. \n",
        "\n",
        "real folder: 50 real images, randomly picked from the [places database](http://places.csail.mit.edu/)\n",
        "\n",
        "fake_high_variance folder: random samples starting from n=N for each of the real images \n",
        "\n",
        "fake_mid_variance folder: random samples starting from n=N-1 for each of the real images \n",
        "\n",
        "For additional details please see section 3.1 in our [paper](https://arxiv.org/pdf/1905.01164.pdf)"
      ]
    }
  ]
}