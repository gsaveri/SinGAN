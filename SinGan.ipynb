{
  "nbformat": 4,
  "nbformat_minor": 0,
  "metadata": {
    "colab": {
      "name": "SinGan.ipynb",
      "private_outputs": true,
      "provenance": [],
      "collapsed_sections": [
        "V6gKwJKKO4U3"
      ],
      "authorship_tag": "ABX9TyN0z/KF2sYXeUu4Q6xdjSnk",
      "include_colab_link": true
    },
    "kernelspec": {
      "name": "python3",
      "display_name": "Python 3"
    },
    "language_info": {
      "name": "python"
    },
    "accelerator": "GPU"
  },
  "cells": [
    {
      "cell_type": "markdown",
      "metadata": {
        "id": "view-in-github",
        "colab_type": "text"
      },
      "source": [
        "<a href=\"https://colab.research.google.com/github/gsaveri/SinGAN/blob/master/SinGan.ipynb\" target=\"_parent\"><img src=\"https://colab.research.google.com/assets/colab-badge.svg\" alt=\"Open In Colab\"/></a>"
      ]
    },
    {
      "cell_type": "markdown",
      "metadata": {
        "id": "ri0U_k4ENHlr"
      },
      "source": [
        "#SinGAN Colab Notebook\n",
        "\n",
        "This repo was originally forked from https://github.com/tamarott/SinGAN, I just added the colab notebook.\n",
        "\n",
        "[Project](https://tamarott.github.io/SinGAN.htm) | [Arxiv](https://arxiv.org/pdf/1905.01164.pdf) | [CVF](http://openaccess.thecvf.com/content_ICCV_2019/papers/Shaham_SinGAN_Learning_a_Generative_Model_From_a_Single_Natural_Image_ICCV_2019_paper.pdf) | [Supplementary materials](https://openaccess.thecvf.com/content_ICCV_2019/supplemental/Shaham_SinGAN_Learning_a_ICCV_2019_supplemental.pdf) | [Talk (ICCV`19)](https://youtu.be/mdAcPe74tZI?t=3191) \n",
        "\n",
        "\n",
        "### Official pytorch implementation of the paper: \"SinGAN: Learning a Generative Model from a Single Natural Image\"\n",
        "#### ICCV 2019 Best paper award (Marr prize)\n",
        "\n",
        "The code will clone the repository into your local colab space, and train sinGan with an input image."
      ]
    },
    {
      "cell_type": "markdown",
      "metadata": {
        "id": "z57lN49AO1EX"
      },
      "source": [
        "##Code"
      ]
    },
    {
      "cell_type": "code",
      "metadata": {
        "id": "gr4kxJEhM0eW"
      },
      "source": [
        "import os\n",
        "from google.colab import files"
      ],
      "execution_count": null,
      "outputs": []
    },
    {
      "cell_type": "markdown",
      "metadata": {
        "id": "V6gKwJKKO4U3"
      },
      "source": [
        "### Clone the repository"
      ]
    },
    {
      "cell_type": "code",
      "metadata": {
        "id": "d8Zd8aXUMA15"
      },
      "source": [
        "!git clone https://github.com/gsaveri/SinGAN.git"
      ],
      "execution_count": null,
      "outputs": []
    },
    {
      "cell_type": "code",
      "metadata": {
        "id": "xMBrKvHaNpmz"
      },
      "source": [
        "cd SinGAN"
      ],
      "execution_count": null,
      "outputs": []
    },
    {
      "cell_type": "markdown",
      "metadata": {
        "id": "bMf9tkHoOxMO"
      },
      "source": [
        "### Install dependencies"
      ]
    },
    {
      "cell_type": "code",
      "metadata": {
        "id": "5t2biZvVMuhd"
      },
      "source": [
        "!pip install -r requirements.txt"
      ],
      "execution_count": null,
      "outputs": []
    },
    {
      "cell_type": "code",
      "metadata": {
        "id": "muYPrHKHWWtj"
      },
      "source": [
        "# !pip install torch==1.4.0 \n",
        "# !pip install torchvision==0.5.0"
      ],
      "execution_count": null,
      "outputs": []
    },
    {
      "cell_type": "markdown",
      "metadata": {
        "id": "5RnmXeDRPEJE"
      },
      "source": [
        "### Train on uploaded image"
      ]
    },
    {
      "cell_type": "code",
      "metadata": {
        "id": "vPVrzq1iNE2o"
      },
      "source": [
        "# Load an input image\n",
        "input = files.upload()\n",
        "input = list(input.keys())[0]\n",
        "\n",
        "!cp \"{input}\" /content/SinGAN/Input/Images/\"{input}\"\n",
        "!rm \"{input}\""
      ],
      "execution_count": null,
      "outputs": []
    },
    {
      "cell_type": "code",
      "metadata": {
        "id": "Ue1RGVxhMxPd"
      },
      "source": [
        "!python main_train.py --input_name \"{input}\""
      ],
      "execution_count": null,
      "outputs": []
    },
    {
      "cell_type": "markdown",
      "metadata": {
        "id": "CG7JMgICRtVt"
      },
      "source": [
        "###  Random samples\n",
        "To generate random samples from any starting generation scale, please first train SinGAN model on the desired image (as described above), then run"
      ]
    },
    {
      "cell_type": "code",
      "metadata": {
        "id": "9kcCZPy6R4tJ"
      },
      "source": [
        "gen_start_scale = 5"
      ],
      "execution_count": null,
      "outputs": []
    },
    {
      "cell_type": "code",
      "metadata": {
        "id": "GHaNcwO4UW-D"
      },
      "source": [
        "folder = input[0:len(input)-4]"
      ],
      "execution_count": null,
      "outputs": []
    },
    {
      "cell_type": "code",
      "metadata": {
        "id": "dh6XMXxvRnI4"
      },
      "source": [
        "!python random_samples.py --input_name \"{input}\" --mode random_samples --gen_start_scale \"{gen_start_scale}\""
      ],
      "execution_count": null,
      "outputs": []
    },
    {
      "cell_type": "markdown",
      "metadata": {
        "id": "Ef0qpnxdZ3Fs"
      },
      "source": [
        "### Harmonization"
      ]
    },
    {
      "cell_type": "code",
      "metadata": {
        "id": "IzjRkNivaZAt"
      },
      "source": [
        "# Load paint reference image\n",
        "harmonization_ref = files.upload()\n",
        "harmonization_ref = list(input.keys())[0]\n",
        "\n",
        "!cp \"{harmonization_ref}\" /content/SinGAN/Input/Harmonization/\"{harmonization_ref}\"\n",
        "!rm \"{harmonization_ref}\""
      ],
      "execution_count": null,
      "outputs": []
    },
    {
      "cell_type": "code",
      "metadata": {
        "id": "tQyKDz9ZujW4"
      },
      "source": [
        "!python harmonization.py --input_name \"{input}\" --ref_name astro.png --harmonization_start_scale \"{harmonization_ref}\""
      ],
      "execution_count": null,
      "outputs": []
    },
    {
      "cell_type": "markdown",
      "metadata": {
        "id": "CwfIRD_sZ5yf"
      },
      "source": [
        "###Super resolution"
      ]
    },
    {
      "cell_type": "code",
      "metadata": {
        "id": "UbDF4XI-0Fv7"
      },
      "source": [
        "!python SR.py --input_name \"{input}\""
      ],
      "execution_count": null,
      "outputs": []
    },
    {
      "cell_type": "markdown",
      "metadata": {
        "id": "UEJoi0OjaCKN"
      },
      "source": [
        "### Paint to image"
      ]
    },
    {
      "cell_type": "code",
      "metadata": {
        "id": "JPfUKIWuaHs3"
      },
      "source": [
        "# Load paint reference image\n",
        "paint_ref = files.upload()\n",
        "paint_ref = list(input.keys())[0]\n",
        "\n",
        "!cp \"{paint_ref}\" /content/SinGAN/Input/Paint/\"{paint_ref}\"\n",
        "!rm \"{paint_ref}\""
      ],
      "execution_count": null,
      "outputs": []
    },
    {
      "cell_type": "code",
      "metadata": {
        "id": "6JlelZWDYjvL"
      },
      "source": [
        "!python paint2image.py --input_name \"{input}\" --ref_name \"{paint_ref}\" --paint_start_scale 2"
      ],
      "execution_count": null,
      "outputs": []
    },
    {
      "cell_type": "code",
      "metadata": {
        "id": "5dIYqvoeTqgN"
      },
      "source": [
        "# clean trainedModel\n",
        "# !rm -r /content/SinGAN/Output/RandomSamples/\"{folder}\"\n",
        "# !rm -r /content/SinGAN/TrainedModels/\"{folder}\""
      ],
      "execution_count": null,
      "outputs": []
    }
  ]
}